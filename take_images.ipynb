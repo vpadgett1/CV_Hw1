{
 "cells": [
  {
   "cell_type": "code",
   "execution_count": 1,
   "metadata": {},
   "outputs": [],
   "source": [
    "import numpy as np\n",
    "import cv2 as cv\n",
    "import cv2\n",
    "import glob\n",
    "import depthai  # depthai - access the camera and its data packets\n",
    "import blobconverter  # blobconverter - compile and download MyriadX neural network blobs"
   ]
  },
  {
   "cell_type": "code",
   "execution_count": 4,
   "metadata": {},
   "outputs": [],
   "source": [
    "#set up the camera\n",
    "pipeline = depthai.Pipeline()\n",
    "cam_rgb = pipeline.create(depthai.node.ColorCamera)\n",
    "cam_rgb.setPreviewSize(1280,720)\n",
    "cam_rgb.setInterleaved(False)\n",
    "\n",
    "xout_rgb = pipeline.create(depthai.node.XLinkOut)\n",
    "xout_rgb.setStreamName(\"rgb\")\n",
    "cam_rgb.preview.link(xout_rgb.input)"
   ]
  },
  {
   "cell_type": "code",
   "execution_count": 6,
   "metadata": {},
   "outputs": [
    {
     "name": "stdout",
     "output_type": "stream",
     "text": [
      "calibration_0.png written!\n",
      "calibration_1.png written!\n",
      "calibration_2.png written!\n",
      "calibration_3.png written!\n",
      "calibration_4.png written!\n",
      "calibration_5.png written!\n",
      "calibration_6.png written!\n",
      "calibration_7.png written!\n",
      "calibration_8.png written!\n",
      "calibration_9.png written!\n",
      "calibration_10.png written!\n",
      "calibration_11.png written!\n",
      "calibration_12.png written!\n",
      "calibration_13.png written!\n",
      "Escape hit, closing...\n"
     ]
    }
   ],
   "source": [
    "# Pipeline is now finished, and we need to find an available device to run our pipeline\n",
    "# we are using context manager here that will dispose the device after we stop using it\n",
    "with depthai.Device(pipeline, usb2Mode=True) as device:\n",
    "    # From this point, the Device will be in \"running\" mode and will start sending data via XLink\n",
    "\n",
    "    # To consume the device results, we get two output queues from the device, with stream names we assigned earlier\n",
    "    q_rgb = device.getOutputQueue(\"rgb\")\n",
    "\n",
    "    # Here, some of the default values are defined. Frame will be an image from \"rgb\" stream, detections will contain nn results\n",
    "    frame = None\n",
    "    detections = []\n",
    "\n",
    "    # Since the detections returned by nn have values from <0..1> range, they need to be multiplied by frame width/height to\n",
    "    # receive the actual position of the bounding box on the image\n",
    "    def frameNorm(frame, bbox):\n",
    "        normVals = np.full(len(bbox), frame.shape[0])\n",
    "        normVals[::2] = frame.shape[1]\n",
    "        return (np.clip(np.array(bbox), 0, 1) * normVals).astype(int)\n",
    "\n",
    "    img_counter = 0\n",
    "\n",
    "    # Main host-side application loop\n",
    "    while True:\n",
    "        # we try to fetch the data from nn/rgb queues. tryGet will return either the data packet or None if there isn't any\n",
    "        in_rgb = q_rgb.tryGet()\n",
    "\n",
    "        if in_rgb is not None:\n",
    "            # If the packet from RGB camera is present, we're retrieving the frame in OpenCV format using getCvFrame\n",
    "            frame = in_rgb.getCvFrame()\n",
    "            # print(frame.shape)\n",
    "\n",
    "        if frame is not None:\n",
    "            for detection in detections:\n",
    "                # for each bounding box, we first normalize it to match the frame size\n",
    "                bbox = frameNorm(frame, (detection.xmin, detection.ymin, detection.xmax, detection.ymax))\n",
    "                # and then draw a rectangle on the frame to show the actual result\n",
    "                cv2.rectangle(frame, (bbox[0], bbox[1]), (bbox[2], bbox[3]), (255, 0, 0), 2)\n",
    "            # After all the drawing is finished, we show the frame on the screen\n",
    "            cv2.imshow(\"preview\", frame)\n",
    "\n",
    "        # at any time, you can press \"q\" and exit the main loop, therefore exiting the program itself\n",
    "        k = cv.waitKey(1)\n",
    "        if k%256 == 27:\n",
    "            # ESC pressed\n",
    "            print(\"Escape hit, closing...\")\n",
    "            break\n",
    "        elif k%256 == 32:\n",
    "            # SPACE pressed\n",
    "            img_name = \"calibration_{}.png\".format(img_counter)\n",
    "            cv.imwrite(img_name, frame)\n",
    "            print(\"{} written!\".format(img_name))\n",
    "            img_counter += 1\n",
    "\n",
    "cv2.destroyAllWindows()"
   ]
  }
 ],
 "metadata": {
  "kernelspec": {
   "display_name": "Python 3.9.13 64-bit (microsoft store)",
   "language": "python",
   "name": "python3"
  },
  "language_info": {
   "codemirror_mode": {
    "name": "ipython",
    "version": 3
   },
   "file_extension": ".py",
   "mimetype": "text/x-python",
   "name": "python",
   "nbconvert_exporter": "python",
   "pygments_lexer": "ipython3",
   "version": "3.9.13"
  },
  "orig_nbformat": 4,
  "vscode": {
   "interpreter": {
    "hash": "0bc538aba534c89b0a5c0076cf9b663a7efbcd0cd43af899552ce764c25285b0"
   }
  }
 },
 "nbformat": 4,
 "nbformat_minor": 2
}
